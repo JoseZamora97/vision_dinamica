{
 "cells": [
  {
   "cell_type": "code",
   "execution_count": null,
   "metadata": {},
   "outputs": [],
   "source": [
    "import cv2 as cv\n",
    "import matplotlib.pyplot as plt\n",
    "import seaborn as sns\n",
    "import numpy as np\n",
    "import time\n",
    "\n",
    "sns.set_theme()"
   ]
  },
  {
   "cell_type": "code",
   "execution_count": null,
   "metadata": {},
   "outputs": [],
   "source": [
    "def normalize(data):\n",
    "    return (data - np.min(data)) / (np.max(data) - np.min(data))\n",
    "\n",
    "def plot_vs(u, v, cmap='inferno', title=''):\n",
    "    \n",
    "    v = [\n",
    "        (u, 'u'),\n",
    "        (v, 'v'),\n",
    "        (np.sqrt(u**2 + v**2), r\"$u^{2} * v^{2}$\"), \n",
    "        (np.abs(np.arctan(u / (v + 1e-12))), r\"$arctan(u/v)$\")\n",
    "    ]\n",
    "    \n",
    "    fig = plt.figure(figsize=(5.5*4, 5.1))\n",
    "    fig.suptitle(title)\n",
    "    \n",
    "    i = 1\n",
    "    for e, t in v:        \n",
    "        ax = fig.add_subplot(1, 4, i)\n",
    "        ax.imshow(e, cmap=cmap)\n",
    "        ax.set_title(t)\n",
    "        ax.axis('off')\n",
    "        i += 1\n",
    "\n",
    "    plt.tight_layout()\n",
    "    plt.show()"
   ]
  },
  {
   "cell_type": "code",
   "execution_count": null,
   "metadata": {},
   "outputs": [],
   "source": [
    "def plot_uv(u, v, im, quivstep=11, scale=4, head_width=0.8, head_length=1, title='', ths=0.8):\n",
    "    h, w = im.shape[:2]\n",
    "    \n",
    "    fig = plt.figure(figsize=(10, 5))\n",
    "    fig.suptitle(title)\n",
    "    \n",
    "    ax1 = fig.add_subplot(1, 2, 1)\n",
    "    ax2 = fig.add_subplot(1, 2, 2)\n",
    "    \n",
    "    ax1.imshow(im, cmap='gray')\n",
    "    ax2.imshow(np.zeros_like(im, dtype=float), cmap='gray')\n",
    "       \n",
    "    for i in range(quivstep //2 , h + quivstep // 2, quivstep):\n",
    "        for j in range(quivstep//2, w + quivstep // 2, quivstep):\n",
    "            \n",
    "            u_mean = np.mean(u[i:i + quivstep + 1, j:j + quivstep + 1]) * 10 * scale\n",
    "            v_mean = np.mean(v[i:i + quivstep + 1, j:j + quivstep + 1]) * 10 * scale\n",
    "            \n",
    "            V = np.sqrt(u_mean ** 2 + v_mean ** 2) \n",
    "            \n",
    "            if V < ths:\n",
    "                continue\n",
    "    \n",
    "            ax1.arrow(\n",
    "                j, i, v_mean, u_mean, color='red',\n",
    "                head_width=head_width, head_length=head_length\n",
    "            )\n",
    "            ax2.arrow(\n",
    "                j, i, v_mean, u_mean, color='white',\n",
    "                head_width=head_width, head_length=head_length\n",
    "            )\n",
    "\n",
    "    ax1.axis('off')\n",
    "    ax2.axis('off')\n",
    "    \n",
    "    plt.tight_layout()\n",
    "    plt.show()"
   ]
  },
  {
   "cell_type": "markdown",
   "metadata": {},
   "source": [
    "# Flujo Óptico"
   ]
  },
  {
   "cell_type": "markdown",
   "metadata": {},
   "source": [
    "### Lucas Kanade: Mínimos cuadrados"
   ]
  },
  {
   "cell_type": "code",
   "execution_count": null,
   "metadata": {},
   "outputs": [],
   "source": [
    "def lk_pinv(ix, iy, it):\n",
    "    \n",
    "    _A = np.zeros((2, 2))\n",
    "    \n",
    "    _A[0, 0] = np.sum(ix ** 2)\n",
    "    _A[1, 0] = _A[0, 1] = np.sum(ix * iy)\n",
    "    _A[1, 1] = np.sum(iy ** 2)\n",
    "    \n",
    "    _b = np.zeros((2, 1))\n",
    "    \n",
    "    _b[0, 0] = - np.sum(ix * it)\n",
    "    _b[1, 0] = - np.sum(iy * it)\n",
    "    \n",
    "    _V = np.linalg.pinv(_A) @ _b\n",
    "     \n",
    "    return _V"
   ]
  },
  {
   "cell_type": "markdown",
   "metadata": {},
   "source": [
    "### Lucas Kanade: Directo"
   ]
  },
  {
   "cell_type": "code",
   "execution_count": null,
   "metadata": {},
   "outputs": [],
   "source": [
    "def lk_direct(ix, iy, it):\n",
    "    \n",
    "    ix2  = np.sum(ix * ix)\n",
    "    iy2  = np.sum(iy * iy)\n",
    "    ixiy = np.sum(ix * iy)\n",
    "\n",
    "    ixit = np.sum(ix * it)\n",
    "    iyit = np.sum(iy * it)\n",
    "\n",
    "    d = ix2 * iy2 - ixiy ** 2 + 1e-9\n",
    "\n",
    "    u = (-iy2 * ixit + ixiy * iyit) / d \n",
    "    v = ( ixiy * ixit - ix2 * iyit) / d \n",
    " \n",
    "    return [u, v]"
   ]
  },
  {
   "cell_type": "code",
   "execution_count": null,
   "metadata": {},
   "outputs": [],
   "source": [
    "def gradient_x(im1, im2, ksize=3):\n",
    "    return (cv.Sobel(im1, cv.CV_32F, 0, 1, ksize=ksize) + cv.Sobel(im2, cv.CV_32F, 0, 1, ksize=ksize)) / 2\n",
    "\n",
    "def gradient_y(im1, im2, ksize=3):\n",
    "    return (cv.Sobel(im1, cv.CV_32F, 1, 0, ksize=ksize) + cv.Sobel(im2, cv.CV_32F, 1, 0, ksize=ksize)) / 2\n",
    "\n",
    "def gradient_t(im1, im2, ksize=3):\n",
    "    return cv.filter2D(im2, cv.CV_32F, np.ones((ksize, ksize))) - cv.filter2D(im1, cv.CV_32F, np.ones((ksize, ksize)))"
   ]
  },
  {
   "cell_type": "code",
   "execution_count": null,
   "metadata": {},
   "outputs": [],
   "source": [
    "def optical_flow_lk(im_prev, im_next, window_size=3, funct=lk_pinv):\n",
    "    pad = window_size // 2\n",
    "    \n",
    "    # Normalize images between (0, 1)\n",
    "    im0, im1 = im_prev.copy(), im_next.copy()\n",
    "\n",
    "    # Pad images\n",
    "    im0, im1 = np.pad(im0, pad), np.pad(im1, pad)\n",
    "\n",
    "    # Compute Ix, Iy, It\n",
    "    ix = gradient_x(im0, im1)\n",
    "    iy = gradient_y(im0, im1)\n",
    "    it = gradient_t(im0, im1)\n",
    "\n",
    "    # Allocate space for V = (u, v)\n",
    "    u, v = [np.zeros_like(ix) for _ in range(2)]\n",
    "    h, w = ix.shape\n",
    "\n",
    "    for row in range(pad, h - pad):\n",
    "        for col in range(pad, w - pad):\n",
    "            # Calcule slice indexes\n",
    "            ri, rj = row - pad, row + pad + 1\n",
    "            ci, cj = col - pad, col + pad + 1\n",
    "            \n",
    "            # Slice and flat the matrixes\n",
    "            _ix = ix[ri:rj, ci:cj]\n",
    "            _iy = iy[ri:rj, ci:cj]\n",
    "            _it = it[ri:rj, ci:cj]\n",
    "            \n",
    "            # Compute optical flow\n",
    "            u[row, col], v[row, col] = funct(_ix, _iy, _it)\n",
    "    \n",
    "    # Return non-padded (u, v) images.\n",
    "    return u[pad:h - pad, pad:w - pad], v[pad:h - pad, pad:w - pad]"
   ]
  },
  {
   "cell_type": "markdown",
   "metadata": {},
   "source": [
    "### Análisis de tiempos y comparación de resultados"
   ]
  },
  {
   "cell_type": "code",
   "execution_count": null,
   "metadata": {},
   "outputs": [],
   "source": [
    "_im_prev = cv.imread('images/fr00100.png', 0).astype(np.int16)\n",
    "_im_next = cv.imread('images/fr00101.png', 0).astype(np.int16)"
   ]
  },
  {
   "cell_type": "code",
   "execution_count": null,
   "metadata": {},
   "outputs": [],
   "source": [
    "kernel_sizes = [3, 5, 7, 31, 71, 121, 253]\n",
    "lk_pinv_times, lk_direct_times = [], []\n",
    "lk_pinv_results, lk_direct_results = [], []"
   ]
  },
  {
   "cell_type": "code",
   "execution_count": null,
   "metadata": {},
   "outputs": [],
   "source": [
    "for k_size in kernel_sizes:\n",
    "    t = time.time()\n",
    "    u, v = optical_flow_lk(\n",
    "        _im_prev, _im_next, window_size=k_size, funct=lk_pinv)\n",
    "    tf = time.time() - t\n",
    "    \n",
    "    lk_pinv_times.append(tf)\n",
    "    lk_pinv_results.append((u, v))\n",
    "\n",
    "    t = time.time()\n",
    "    u, v = optical_flow_lk(\n",
    "        _im_prev, _im_next, window_size=k_size, funct=lk_direct)\n",
    "    tf = time.time() - t\n",
    "    \n",
    "    lk_direct_times.append(tf)\n",
    "    lk_direct_results.append((u, v))"
   ]
  },
  {
   "cell_type": "code",
   "execution_count": null,
   "metadata": {
    "scrolled": true
   },
   "outputs": [],
   "source": [
    "x = list(range(len(kernel_sizes)))\n",
    "\n",
    "y_p = lk_pinv_times\n",
    "y_d = lk_direct_times\n",
    "\n",
    "plt.plot(x, y_p, 'o-', label='LK Pinv')\n",
    "plt.plot(x, y_d, 'o-', label='LK Direct')\n",
    "\n",
    "plt.ylabel('Tiempo (segs)')\n",
    "plt.xlabel('Tamaño de la ventana de integración (px)')\n",
    "\n",
    "plt.xticks(x, kernel_sizes)\n",
    "\n",
    "plt.tight_layout()\n",
    "\n",
    "plt.legend()\n",
    "plt.savefig('lk.svg')\n",
    "plt.show()"
   ]
  },
  {
   "cell_type": "markdown",
   "metadata": {},
   "source": [
    "#### Análisis del flujo óptico con diferentes tamaños de ventana de integración"
   ]
  },
  {
   "cell_type": "code",
   "execution_count": null,
   "metadata": {
    "scrolled": false
   },
   "outputs": [],
   "source": [
    "quivstep = 20\n",
    "scale = 1\n",
    "ths = 4\n",
    "\n",
    "# Arrow properties\n",
    "head_width = 5\n",
    "head_length = 3\n",
    "\n",
    "for i, k in enumerate(kernel_sizes):\n",
    "    u, v = lk_pinv_results[i]\n",
    "    plot_vs(u, v, title=f'LK Pinv {k}x{k}')\n",
    "    plot_uv(u, v, _im_prev, quivstep, scale, head_width, \n",
    "            head_length, title='', ths=ths)    \n",
    "    u, v = lk_direct_results[i]\n",
    "    plot_vs(u, v, title=f'LK Direct {k}x{k}')\n",
    "    plot_uv(u, v, _im_prev, quivstep, scale, head_width, \n",
    "            head_length, title='', ths=ths)"
   ]
  },
  {
   "cell_type": "markdown",
   "metadata": {},
   "source": [
    "## Horn&Schunck"
   ]
  },
  {
   "cell_type": "code",
   "execution_count": null,
   "metadata": {},
   "outputs": [],
   "source": [
    "def compute_error(u, v, ix, iy, it, lamb):\n",
    "    \n",
    "    ux, uy = np.gradient(u)\n",
    "    vx, vy = np.gradient(v)\n",
    "    \n",
    "    eps_s = ux**2 + uy**2 + vx**2 + vy**2\n",
    "    eps = (ix * u + iy * v + it) ** 2\n",
    "\n",
    "    E = np.sum(eps_s + lamb * eps)\n",
    "    \n",
    "    return 1 / E\n",
    "\n",
    "\n",
    "def compute(ix, iy, it, lamb, n_iter, min_error=0.001):\n",
    "    \n",
    "    u, v = np.zeros_like(ix), np.zeros_like(iy)\n",
    "    errors = []\n",
    "    \n",
    "    for _ in range(n_iter):\n",
    "        # Compute means\n",
    "        u_avg = cv.GaussianBlur(u, (3, 3), 0)\n",
    "        v_avg = cv.GaussianBlur(v, (3, 3), 0)\n",
    "        \n",
    "        # Common part\n",
    "        n = ix * u_avg + iy * v_avg + it  \n",
    "        d = lamb ** 2 + ix ** 2 + iy ** 2\n",
    "        r = n / d\n",
    "        \n",
    "        # Update new (u, v) values\n",
    "        u = u_avg - ix * r\n",
    "        v = v_avg - iy * r\n",
    "        \n",
    "        # Compute error\n",
    "        errors.append(\n",
    "            compute_error(u, v, ix, iy, it, lamb)\n",
    "        )\n",
    "        \n",
    "    return u, v, errors\n",
    "    \n",
    "\n",
    "def optical_flow_hs(im_prev, im_next, \n",
    "                    lamb=0.001, n_iter=8):\n",
    "    \n",
    "    # Normalize images between (0, 1)\n",
    "    im0, im1 = im_prev.copy() / 255., im_next.copy() / 255.\n",
    "    \n",
    "    # Compute Ix, Iy, It\n",
    "    ix = (np.gradient(im0, axis=0) + np.gradient(im1, axis=0)) / 2\n",
    "    iy = (np.gradient(im0, axis=1) + np.gradient(im1, axis=1)) / 2\n",
    "    it = im1 - im0\n",
    "     \n",
    "    return compute(ix, iy, it, lamb, n_iter)"
   ]
  },
  {
   "cell_type": "code",
   "execution_count": null,
   "metadata": {},
   "outputs": [],
   "source": [
    "def plot_errors(errors_hs, lambdas, threshold=1e-3):\n",
    "    stab_points = []\n",
    "    \n",
    "    fig = plt.figure(figsize=(5.5*2, 5.1*4))\n",
    "    fig.suptitle(f\"Horn Schunk Errors\")\n",
    "    \n",
    "    i = 1\n",
    "    for errors, lamb in zip(errors_hs, lambdas):        \n",
    "\n",
    "        cut = len(errors) - 1\n",
    "        errs = [errors[i-1] - errors[i] \n",
    "                for i in range(1, len(errors))]\n",
    "        \n",
    "        for j in range(len(errs)):\n",
    "            if errs[j] < threshold:\n",
    "                cut = j\n",
    "                break\n",
    "        \n",
    "        ax = fig.add_subplot(4, 2, i)\n",
    "        ax.plot(list(range(len(errors))), errors, '.-')\n",
    "        # ax.plot([cut for _ in errors], errors, 'r--')\n",
    "        \n",
    "        ax.set_title(f\"lambda={lamb}\")\n",
    "        ax.set_xlabel(\"Iteraciones\")\n",
    "        ax.set_ylabel(r\"Error\")\n",
    "        \n",
    "        i += 1\n",
    "    \n",
    "    plt.tight_layout()\n",
    "    plt.savefig('errors.svg')\n",
    "    plt.show()\n",
    "    \n",
    "    \n",
    "def draw_optical_flow_hs(\n",
    "    results_hs, lambdas, \n",
    "    quivstep = 20,\n",
    "    scale = 1,\n",
    "    ths = 4,\n",
    "    head_width = 5,\n",
    "    head_length = 3):\n",
    "\n",
    "    for i, k in enumerate(lambdas):\n",
    "        u, v = results_hs[i]\n",
    "        plot_vs(u, v, title=f'Horn& Schunk, lambda={k}')\n",
    "        plot_uv(u, v, _im_prev, quivstep, scale, head_width, \n",
    "                head_length, title=f'', ths=ths)"
   ]
  },
  {
   "cell_type": "markdown",
   "metadata": {},
   "source": [
    "####  Análisis del flujo óptico con diferentes $\\lambda$"
   ]
  },
  {
   "cell_type": "code",
   "execution_count": null,
   "metadata": {},
   "outputs": [],
   "source": [
    "lambdas = [0.0001, 0.001, 0.005, 0.01, 0.05, 0.1, 0.5, 1]\n",
    "n_iter = 20"
   ]
  },
  {
   "cell_type": "code",
   "execution_count": null,
   "metadata": {},
   "outputs": [],
   "source": [
    "results_hs, errors_hs = [], []\n",
    "for lamb in lambdas:\n",
    "    u, v, errors = optical_flow_hs(_im_prev, _im_next, lamb, n_iter)\n",
    "    results_hs.append((u, v))\n",
    "    errors_hs.append(errors)"
   ]
  },
  {
   "cell_type": "code",
   "execution_count": null,
   "metadata": {
    "scrolled": false
   },
   "outputs": [],
   "source": [
    "draw_optical_flow_hs(results_hs, lambdas)"
   ]
  },
  {
   "cell_type": "markdown",
   "metadata": {},
   "source": [
    "# Pruebas sobre otras imágenes"
   ]
  },
  {
   "cell_type": "code",
   "execution_count": null,
   "metadata": {},
   "outputs": [],
   "source": [
    "import os"
   ]
  },
  {
   "cell_type": "code",
   "execution_count": null,
   "metadata": {},
   "outputs": [],
   "source": [
    "def compute_optical_flow(im0, im1, im_to_show):\n",
    "    u_lk, v_lk = optical_flow_lk(im0, im1, window_size=15, funct=lk_direct)\n",
    "    u_hs, v_hs, _ = optical_flow_hs(im0, im1, lamb=0.001, n_iter=20)\n",
    "        \n",
    "    plot_vs(u_lk, v_lk, title=f'Lucas Kanade')\n",
    "    plot_uv(u_lk, v_lk, im_to_show, quivstep=15, scale=1, \n",
    "            head_width=head_width, head_length=head_length, title='', ths=3)\n",
    "    \n",
    "    plot_vs(u_hs, v_hs, title=f'Horn&Schunk')\n",
    "    plot_uv(u_hs, v_hs, im_to_show, quivstep=15, scale=1, \n",
    "            head_width=head_width, head_length=head_length, ths=3)"
   ]
  },
  {
   "cell_type": "markdown",
   "metadata": {},
   "source": [
    "### Sphere"
   ]
  },
  {
   "cell_type": "code",
   "execution_count": null,
   "metadata": {},
   "outputs": [],
   "source": [
    "path = './images/sphere/'\n",
    "\n",
    "_im_prev_rgb, _im_next_rgb = [cv.imread(path + im) \n",
    "                              for im in os.listdir(path)[:2]]\n",
    "compute_optical_flow(\n",
    "    cv.cvtColor(_im_prev_rgb, cv.COLOR_BGR2GRAY), \n",
    "    cv.cvtColor(_im_next_rgb, cv.COLOR_BGR2GRAY), \n",
    "    cv.cvtColor(_im_prev_rgb, cv.COLOR_BGR2RGB))"
   ]
  },
  {
   "cell_type": "markdown",
   "metadata": {},
   "source": [
    "## Cubo de Rubic"
   ]
  },
  {
   "cell_type": "code",
   "execution_count": null,
   "metadata": {},
   "outputs": [],
   "source": [
    "path = './images/rubic/'\n",
    "\n",
    "_im_prev_rgb, _im_next_rgb = [cv.imread(path + im) \n",
    "                              for im in os.listdir(path)[:2]]\n",
    "compute_optical_flow(\n",
    "    cv.cvtColor(_im_prev_rgb, cv.COLOR_BGR2GRAY), \n",
    "    cv.cvtColor(_im_next_rgb, cv.COLOR_BGR2GRAY), \n",
    "    cv.cvtColor(_im_prev_rgb, cv.COLOR_BGR2RGB))"
   ]
  },
  {
   "cell_type": "markdown",
   "metadata": {},
   "source": [
    "### Office"
   ]
  },
  {
   "cell_type": "code",
   "execution_count": null,
   "metadata": {},
   "outputs": [],
   "source": [
    "path = './images/office/'\n",
    "\n",
    "_im_prev_rgb, _im_next_rgb = [cv.imread(path + im) \n",
    "                              for im in os.listdir(path)[:2]]\n",
    "compute_optical_flow(\n",
    "    cv.cvtColor(_im_prev_rgb, cv.COLOR_BGR2GRAY), \n",
    "    cv.cvtColor(_im_next_rgb, cv.COLOR_BGR2GRAY), \n",
    "    cv.cvtColor(_im_prev_rgb, cv.COLOR_BGR2RGB))"
   ]
  }
 ],
 "metadata": {
  "kernelspec": {
   "display_name": "Python 3",
   "language": "python",
   "name": "python3"
  },
  "language_info": {
   "codemirror_mode": {
    "name": "ipython",
    "version": 3
   },
   "file_extension": ".py",
   "mimetype": "text/x-python",
   "name": "python",
   "nbconvert_exporter": "python",
   "pygments_lexer": "ipython3",
   "version": "3.7.10"
  },
  "widgets": {
   "application/vnd.jupyter.widget-state+json": {
    "state": {},
    "version_major": 2,
    "version_minor": 0
   }
  }
 },
 "nbformat": 4,
 "nbformat_minor": 1
}
